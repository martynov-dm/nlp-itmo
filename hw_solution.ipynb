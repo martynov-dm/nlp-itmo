{
 "cells": [
  {
   "cell_type": "code",
   "execution_count": null,
   "metadata": {},
   "outputs": [],
   "source": [
    "\n",
    "import wget\n",
    "\n",
    "# Download the dataset\n",
    "url = 'https://github.com/yutkin/Lenta.Ru-News-Dataset/releases/download/v1.0/lenta-ru-news.csv.gz'\n",
    "wget.download(url)"
   ]
  },
  {
   "cell_type": "code",
   "execution_count": 43,
   "metadata": {},
   "outputs": [],
   "source": [
    "import pandas as pd\n",
    "import gzip\n",
    "\n",
    "path = 'lenta-ru-news.csv.gz'\n",
    "\n",
    "df = pd.read_csv(\n",
    "    gzip.open(path, 'rt', encoding='utf-8'), \n",
    "    delimiter=',',\n",
    "    quotechar='\"'\n",
    ")\n",
    "\n",
    "df = df[['title', 'text', 'topic']].head(50000)\n",
    "df.head(5)\n",
    "\n",
    "class_counts = df['topic'].value_counts()\n",
    "valid_classes = class_counts[class_counts > 500].index.to_list()\n",
    "df = df[df['topic'].isin(valid_classes)]"
   ]
  },
  {
   "cell_type": "code",
   "execution_count": 44,
   "metadata": {},
   "outputs": [],
   "source": [
    "import re\n",
    "from natasha import Doc, Segmenter, MorphVocab\n",
    "morph_vocab = MorphVocab()\n",
    "segmenter = Segmenter()  \n",
    "\n",
    "import re\n",
    "\n",
    "def normalize(text):\n",
    "    if not isinstance(text, str) or pd.isna(text) or text == \"\":\n",
    "        return \"\"\n",
    "        \n",
    "    try:\n",
    "        # Приведение к нижнему регистру\n",
    "        text_lower = text.lower()\n",
    "        \n",
    "        # Удаление URL\n",
    "        clean_text = re.sub(r'https?://\\S+|www\\.\\S+', '', text_lower)\n",
    "        \n",
    "        # Удаление email\n",
    "        clean_text = re.sub(r'\\S+@\\S+', '', clean_text)\n",
    "        \n",
    "        # Удаление всех чисел\n",
    "        clean_text = re.sub(r'\\d+', '', clean_text)\n",
    "        \n",
    "        # Удаление пунктуации\n",
    "        clean_text = re.sub(r'[^\\w\\s]', '', clean_text)\n",
    "        \n",
    "        # Удаление множественных пробелов\n",
    "        clean_text = re.sub(r'\\s+', ' ', clean_text).strip()\n",
    "\n",
    "        # Создание документа\n",
    "        doc = Doc(clean_text)\n",
    "        doc.segment(segmenter)\n",
    "        \n",
    "        lemmatized_tokens = []\n",
    "        for token in doc.tokens:\n",
    "            try:\n",
    "                token.lemmatize(morph_vocab)\n",
    "                if hasattr(token, 'lemma') and token.lemma:\n",
    "                    lemmatized_tokens.append(token.lemma)\n",
    "                else:\n",
    "                    lemmatized_tokens.append(token.text)\n",
    "            except AttributeError:\n",
    "                lemmatized_tokens.append(token.text)\n",
    "        \n",
    "        # Собираем результат\n",
    "        lemmatized_text = ' '.join(lemmatized_tokens)\n",
    "        return lemmatized_text\n",
    "        \n",
    "    except Exception as e:\n",
    "        print(f\"Ошибка при обработке текста: {str(e)}\")\n",
    "        return clean_text\n",
    "\n",
    "df['normalized_text'] = df['text'].apply(normalize)\n",
    "df['normalized_title'] = df['title'].apply(normalize)\n",
    "df['normalized_topic'] = df['topic'].apply(normalize)"
   ]
  },
  {
   "cell_type": "markdown",
   "metadata": {},
   "source": [
    "Очистка текста:\n",
    "Преобразование в нижний регистр\n",
    "Удаление URL-адресов\n",
    "Удаление email-адресов\n",
    "Удаление чисел\n",
    "Удаление знаков пунктуации\n",
    "Нормализация пробелов\n",
    "\n",
    "\n",
    "Лемматизация с использованием библиотеки Natasha:\n",
    "Сегментация текста\n",
    "Лемматизация каждого токена\n",
    "Обработка ошибок для неизвестных слов (сохранение исходной формы)\n",
    "\n",
    "Выбор Natasha вместо других инструментов:\n",
    "Специализированная библиотека для русского языка\n",
    "\n",
    "Почему регулярки вместо библиотек для отчистки? Не нашел нормальных clean-text удалял текст, а не чистил его."
   ]
  },
  {
   "cell_type": "code",
   "execution_count": 45,
   "metadata": {},
   "outputs": [
    {
     "data": {
      "text/plain": [
       "0        названы регионы россии с самой высокой смертно...\n",
       "1        австрия не представила доказательств вины росс...\n",
       "2        обнаружено самое счастливое место на планете с...\n",
       "3        в сша раскрыли сумму расходов на расследование...\n",
       "4        хакеры рассказали о планах великобритании зами...\n",
       "                               ...                        \n",
       "49995    в великобритании арестовали мужчину за секс с ...\n",
       "49996    создан эффективный способ лечения смертоносных...\n",
       "49997    защитник сборной россии спас ворота кельна в п...\n",
       "49998    летний хипстерполицейский покорил instagram и ...\n",
       "49999    кубинские власти назвали источник акустических...\n",
       "Length: 49337, dtype: object"
      ]
     },
     "execution_count": 45,
     "metadata": {},
     "output_type": "execute_result"
    }
   ],
   "source": [
    "from sklearn.calibration import LabelEncoder\n",
    "from sklearn.model_selection import train_test_split\n",
    "\n",
    "dataset = df[['normalized_text', 'normalized_title', 'normalized_topic']]\n",
    "\n",
    "label_encoder = LabelEncoder()\n",
    "encoded_topics = label_encoder.fit_transform(dataset['normalized_topic'])\n",
    "\n",
    "y = encoded_topics\n",
    "X = dataset['normalized_title'] + ' ' + dataset['normalized_text']\n",
    "\n",
    "X_train, X_prep, y_train, y_prep  = train_test_split(X, y, test_size=0.4, random_state=1)\n",
    "\n",
    "X_test, X_val, y_test, y_val = train_test_split(X_prep, y_prep, test_size=0.5, random_state=1) \n",
    "\n",
    "X"
   ]
  },
  {
   "cell_type": "code",
   "execution_count": 46,
   "metadata": {},
   "outputs": [
    {
     "name": "stdout",
     "output_type": "stream",
     "text": [
      "              precision    recall  f1-score   support\n",
      "\n",
      "           0       0.00      0.00      0.00       610\n",
      "           1       0.00      0.00      0.00       408\n",
      "           2       0.00      0.00      0.00       682\n",
      "           3       0.00      0.00      0.00       772\n",
      "           4       0.00      0.00      0.00       667\n",
      "           5       0.14      1.00      0.24      1342\n",
      "           6       0.00      0.00      0.00       701\n",
      "           7       0.00      0.00      0.00       238\n",
      "           8       0.00      0.00      0.00      1381\n",
      "           9       0.00      0.00      0.00       536\n",
      "          10       0.00      0.00      0.00      1129\n",
      "          11       0.00      0.00      0.00       427\n",
      "          12       0.00      0.00      0.00       975\n",
      "\n",
      "    accuracy                           0.14      9868\n",
      "   macro avg       0.01      0.08      0.02      9868\n",
      "weighted avg       0.02      0.14      0.03      9868\n",
      "\n"
     ]
    }
   ],
   "source": [
    "from sklearn.dummy import DummyClassifier\n",
    "from sklearn.feature_extraction.text import CountVectorizer\n",
    "from sklearn.metrics import classification_report\n",
    "\n",
    "vectorizer = CountVectorizer(max_df=0.7, min_df=0.003)\n",
    "X_train_vectorized = vectorizer.fit_transform(X_train)\n",
    "X_val_vectorized = vectorizer.transform(X_val)\n",
    "X_test_vectorized = vectorizer.transform(X_test)\n",
    "\n",
    "# Теперь размерности будут согласованы\n",
    "dummy_clf = DummyClassifier(strategy=\"most_frequent\").fit(X_train_vectorized, y_train)\n",
    "preds = dummy_clf.predict(X_val_vectorized)\n",
    "\n",
    "print(classification_report(y_val, preds, zero_division=0))"
   ]
  },
  {
   "cell_type": "code",
   "execution_count": 47,
   "metadata": {},
   "outputs": [
    {
     "name": "stdout",
     "output_type": "stream",
     "text": [
      "              precision    recall  f1-score   support\n",
      "\n",
      "           0       0.82      0.79      0.81       610\n",
      "           1       0.88      0.83      0.85       408\n",
      "           2       0.82      0.82      0.82       682\n",
      "           3       0.80      0.79      0.79       772\n",
      "           4       0.89      0.88      0.89       667\n",
      "           5       0.82      0.85      0.83      1342\n",
      "           6       0.86      0.86      0.86       701\n",
      "           7       0.79      0.74      0.76       238\n",
      "           8       0.75      0.78      0.77      1381\n",
      "           9       0.78      0.76      0.77       536\n",
      "          10       0.96      0.97      0.97      1129\n",
      "          11       0.91      0.85      0.88       427\n",
      "          12       0.84      0.83      0.84       975\n",
      "\n",
      "    accuracy                           0.84      9868\n",
      "   macro avg       0.84      0.83      0.83      9868\n",
      "weighted avg       0.84      0.84      0.84      9868\n",
      "\n"
     ]
    }
   ],
   "source": [
    "from sklearn.linear_model import LogisticRegression\n",
    "\n",
    "\n",
    "logreg = LogisticRegression(max_iter=2000).fit(X_train_vectorized, y_train)\n",
    "preds = logreg.predict(X_val_vectorized)\n",
    "print(classification_report(y_val, preds, zero_division=0))"
   ]
  },
  {
   "cell_type": "code",
   "execution_count": 52,
   "metadata": {},
   "outputs": [
    {
     "name": "stdout",
     "output_type": "stream",
     "text": [
      "              precision    recall  f1-score   support\n",
      "\n",
      "           0       0.86      0.82      0.84       610\n",
      "           1       0.92      0.78      0.85       408\n",
      "           2       0.81      0.85      0.83       682\n",
      "           3       0.83      0.81      0.82       772\n",
      "           4       0.90      0.90      0.90       667\n",
      "           5       0.82      0.90      0.86      1342\n",
      "           6       0.91      0.87      0.89       701\n",
      "           7       0.89      0.58      0.70       238\n",
      "           8       0.77      0.83      0.80      1381\n",
      "           9       0.83      0.75      0.79       536\n",
      "          10       0.96      0.97      0.96      1129\n",
      "          11       0.95      0.82      0.88       427\n",
      "          12       0.85      0.88      0.87       975\n",
      "\n",
      "    accuracy                           0.85      9868\n",
      "   macro avg       0.87      0.83      0.84      9868\n",
      "weighted avg       0.86      0.85      0.85      9868\n",
      "\n"
     ]
    }
   ],
   "source": [
    "from sklearn.dummy import DummyClassifier\n",
    "from sklearn.feature_extraction.text import TfidfVectorizer\n",
    "from sklearn.metrics import classification_report   \n",
    "from sklearn.pipeline import Pipeline\n",
    "\n",
    "pipe = Pipeline(\n",
    "    steps=[\n",
    "        ('tfidf', TfidfVectorizer()),\n",
    "        ('clf', LogisticRegression(max_iter=2000))\n",
    "    ]\n",
    ").fit(X_train, y_train)\n",
    "\n",
    "preds = pipe.predict(X_val)\n",
    "\n",
    "print(classification_report(y_val, preds, zero_division=0))"
   ]
  },
  {
   "cell_type": "code",
   "execution_count": null,
   "metadata": {},
   "outputs": [
    {
     "name": "stdout",
     "output_type": "stream",
     "text": [
      "Fitting 3 folds for each of 36 candidates, totalling 108 fits\n"
     ]
    },
    {
     "name": "stderr",
     "output_type": "stream",
     "text": [
      "/Users/dmitriimartynov/Documents/Projects/nlp-itmo/.venv/lib/python3.13/site-packages/sklearn/linear_model/_logistic.py:1256: FutureWarning: 'multi_class' was deprecated in version 1.5 and will be removed in 1.7. Use OneVsRestClassifier(LogisticRegression(..)) instead. Leave it to its default value to avoid this warning.\n",
      "  warnings.warn(\n",
      "/Users/dmitriimartynov/Documents/Projects/nlp-itmo/.venv/lib/python3.13/site-packages/sklearn/linear_model/_logistic.py:1256: FutureWarning: 'multi_class' was deprecated in version 1.5 and will be removed in 1.7. Use OneVsRestClassifier(LogisticRegression(..)) instead. Leave it to its default value to avoid this warning.\n",
      "  warnings.warn(\n",
      "/Users/dmitriimartynov/Documents/Projects/nlp-itmo/.venv/lib/python3.13/site-packages/sklearn/linear_model/_logistic.py:1256: FutureWarning: 'multi_class' was deprecated in version 1.5 and will be removed in 1.7. Use OneVsRestClassifier(LogisticRegression(..)) instead. Leave it to its default value to avoid this warning.\n",
      "  warnings.warn(\n",
      "/Users/dmitriimartynov/Documents/Projects/nlp-itmo/.venv/lib/python3.13/site-packages/sklearn/linear_model/_logistic.py:1256: FutureWarning: 'multi_class' was deprecated in version 1.5 and will be removed in 1.7. Use OneVsRestClassifier(LogisticRegression(..)) instead. Leave it to its default value to avoid this warning.\n",
      "  warnings.warn(\n",
      "/Users/dmitriimartynov/Documents/Projects/nlp-itmo/.venv/lib/python3.13/site-packages/sklearn/linear_model/_logistic.py:1256: FutureWarning: 'multi_class' was deprecated in version 1.5 and will be removed in 1.7. Use OneVsRestClassifier(LogisticRegression(..)) instead. Leave it to its default value to avoid this warning.\n",
      "  warnings.warn(\n"
     ]
    },
    {
     "name": "stdout",
     "output_type": "stream",
     "text": [
      "[CV] END classifier__C=0.1, classifier__class_weight=None, vectorizer__max_features=10000, vectorizer__ngram_range=(1, 1); total time=   6.1s\n",
      "[CV] END classifier__C=0.1, classifier__class_weight=None, vectorizer__max_features=10000, vectorizer__ngram_range=(1, 1); total time=   6.1s\n",
      "[CV] END classifier__C=0.1, classifier__class_weight=None, vectorizer__max_features=10000, vectorizer__ngram_range=(1, 1); total time=   6.3s\n",
      "[CV] END classifier__C=0.1, classifier__class_weight=None, vectorizer__max_features=20000, vectorizer__ngram_range=(1, 1); total time=   6.4s\n",
      "[CV] END classifier__C=0.1, classifier__class_weight=None, vectorizer__max_features=20000, vectorizer__ngram_range=(1, 1); total time=   6.1s\n"
     ]
    },
    {
     "name": "stderr",
     "output_type": "stream",
     "text": [
      "/Users/dmitriimartynov/Documents/Projects/nlp-itmo/.venv/lib/python3.13/site-packages/sklearn/linear_model/_logistic.py:1256: FutureWarning: 'multi_class' was deprecated in version 1.5 and will be removed in 1.7. Use OneVsRestClassifier(LogisticRegression(..)) instead. Leave it to its default value to avoid this warning.\n",
      "  warnings.warn(\n"
     ]
    },
    {
     "name": "stdout",
     "output_type": "stream",
     "text": [
      "[CV] END classifier__C=0.1, classifier__class_weight=None, vectorizer__max_features=20000, vectorizer__ngram_range=(1, 1); total time=   5.2s\n"
     ]
    },
    {
     "name": "stderr",
     "output_type": "stream",
     "text": [
      "/Users/dmitriimartynov/Documents/Projects/nlp-itmo/.venv/lib/python3.13/site-packages/sklearn/linear_model/_logistic.py:1256: FutureWarning: 'multi_class' was deprecated in version 1.5 and will be removed in 1.7. Use OneVsRestClassifier(LogisticRegression(..)) instead. Leave it to its default value to avoid this warning.\n",
      "  warnings.warn(\n",
      "/Users/dmitriimartynov/Documents/Projects/nlp-itmo/.venv/lib/python3.13/site-packages/sklearn/linear_model/_logistic.py:1256: FutureWarning: 'multi_class' was deprecated in version 1.5 and will be removed in 1.7. Use OneVsRestClassifier(LogisticRegression(..)) instead. Leave it to its default value to avoid this warning.\n",
      "  warnings.warn(\n",
      "/Users/dmitriimartynov/Documents/Projects/nlp-itmo/.venv/lib/python3.13/site-packages/sklearn/linear_model/_logistic.py:1256: FutureWarning: 'multi_class' was deprecated in version 1.5 and will be removed in 1.7. Use OneVsRestClassifier(LogisticRegression(..)) instead. Leave it to its default value to avoid this warning.\n",
      "  warnings.warn(\n"
     ]
    },
    {
     "name": "stdout",
     "output_type": "stream",
     "text": [
      "[CV] END classifier__C=0.1, classifier__class_weight=None, vectorizer__max_features=None, vectorizer__ngram_range=(1, 1); total time=   5.9s\n"
     ]
    },
    {
     "name": "stderr",
     "output_type": "stream",
     "text": [
      "/Users/dmitriimartynov/Documents/Projects/nlp-itmo/.venv/lib/python3.13/site-packages/sklearn/linear_model/_logistic.py:1256: FutureWarning: 'multi_class' was deprecated in version 1.5 and will be removed in 1.7. Use OneVsRestClassifier(LogisticRegression(..)) instead. Leave it to its default value to avoid this warning.\n",
      "  warnings.warn(\n",
      "/Users/dmitriimartynov/Documents/Projects/nlp-itmo/.venv/lib/python3.13/site-packages/sklearn/linear_model/_logistic.py:1256: FutureWarning: 'multi_class' was deprecated in version 1.5 and will be removed in 1.7. Use OneVsRestClassifier(LogisticRegression(..)) instead. Leave it to its default value to avoid this warning.\n",
      "  warnings.warn(\n"
     ]
    },
    {
     "name": "stdout",
     "output_type": "stream",
     "text": [
      "[CV] END classifier__C=0.1, classifier__class_weight=None, vectorizer__max_features=None, vectorizer__ngram_range=(1, 1); total time=   5.1s\n"
     ]
    },
    {
     "name": "stderr",
     "output_type": "stream",
     "text": [
      "/Users/dmitriimartynov/Documents/Projects/nlp-itmo/.venv/lib/python3.13/site-packages/sklearn/linear_model/_logistic.py:1256: FutureWarning: 'multi_class' was deprecated in version 1.5 and will be removed in 1.7. Use OneVsRestClassifier(LogisticRegression(..)) instead. Leave it to its default value to avoid this warning.\n",
      "  warnings.warn(\n"
     ]
    },
    {
     "name": "stdout",
     "output_type": "stream",
     "text": [
      "[CV] END classifier__C=0.1, classifier__class_weight=None, vectorizer__max_features=10000, vectorizer__ngram_range=(1, 2); total time=  19.1s\n",
      "[CV] END classifier__C=0.1, classifier__class_weight=None, vectorizer__max_features=10000, vectorizer__ngram_range=(1, 2); total time=  20.0s\n",
      "[CV] END classifier__C=0.1, classifier__class_weight=None, vectorizer__max_features=10000, vectorizer__ngram_range=(1, 2); total time=  19.7s\n",
      "[CV] END classifier__C=0.1, classifier__class_weight=None, vectorizer__max_features=None, vectorizer__ngram_range=(1, 1); total time=   4.7s\n"
     ]
    },
    {
     "name": "stderr",
     "output_type": "stream",
     "text": [
      "/Users/dmitriimartynov/Documents/Projects/nlp-itmo/.venv/lib/python3.13/site-packages/sklearn/linear_model/_logistic.py:1256: FutureWarning: 'multi_class' was deprecated in version 1.5 and will be removed in 1.7. Use OneVsRestClassifier(LogisticRegression(..)) instead. Leave it to its default value to avoid this warning.\n",
      "  warnings.warn(\n",
      "/Users/dmitriimartynov/Documents/Projects/nlp-itmo/.venv/lib/python3.13/site-packages/sklearn/linear_model/_logistic.py:1256: FutureWarning: 'multi_class' was deprecated in version 1.5 and will be removed in 1.7. Use OneVsRestClassifier(LogisticRegression(..)) instead. Leave it to its default value to avoid this warning.\n",
      "  warnings.warn(\n",
      "/Users/dmitriimartynov/Documents/Projects/nlp-itmo/.venv/lib/python3.13/site-packages/sklearn/linear_model/_logistic.py:1256: FutureWarning: 'multi_class' was deprecated in version 1.5 and will be removed in 1.7. Use OneVsRestClassifier(LogisticRegression(..)) instead. Leave it to its default value to avoid this warning.\n",
      "  warnings.warn(\n",
      "/Users/dmitriimartynov/Documents/Projects/nlp-itmo/.venv/lib/python3.13/site-packages/sklearn/linear_model/_logistic.py:1256: FutureWarning: 'multi_class' was deprecated in version 1.5 and will be removed in 1.7. Use OneVsRestClassifier(LogisticRegression(..)) instead. Leave it to its default value to avoid this warning.\n",
      "  warnings.warn(\n"
     ]
    },
    {
     "name": "stdout",
     "output_type": "stream",
     "text": [
      "[CV] END classifier__C=0.1, classifier__class_weight=None, vectorizer__max_features=20000, vectorizer__ngram_range=(1, 2); total time=  18.2s\n",
      "[CV] END classifier__C=0.1, classifier__class_weight=None, vectorizer__max_features=20000, vectorizer__ngram_range=(1, 2); total time=  19.2s\n",
      "[CV] END classifier__C=0.1, classifier__class_weight=balanced, vectorizer__max_features=10000, vectorizer__ngram_range=(1, 1); total time=   5.6s\n"
     ]
    },
    {
     "name": "stderr",
     "output_type": "stream",
     "text": [
      "/Users/dmitriimartynov/Documents/Projects/nlp-itmo/.venv/lib/python3.13/site-packages/sklearn/linear_model/_logistic.py:1256: FutureWarning: 'multi_class' was deprecated in version 1.5 and will be removed in 1.7. Use OneVsRestClassifier(LogisticRegression(..)) instead. Leave it to its default value to avoid this warning.\n",
      "  warnings.warn(\n",
      "/Users/dmitriimartynov/Documents/Projects/nlp-itmo/.venv/lib/python3.13/site-packages/sklearn/linear_model/_logistic.py:1256: FutureWarning: 'multi_class' was deprecated in version 1.5 and will be removed in 1.7. Use OneVsRestClassifier(LogisticRegression(..)) instead. Leave it to its default value to avoid this warning.\n",
      "  warnings.warn(\n",
      "/Users/dmitriimartynov/Documents/Projects/nlp-itmo/.venv/lib/python3.13/site-packages/sklearn/linear_model/_logistic.py:1256: FutureWarning: 'multi_class' was deprecated in version 1.5 and will be removed in 1.7. Use OneVsRestClassifier(LogisticRegression(..)) instead. Leave it to its default value to avoid this warning.\n",
      "  warnings.warn(\n"
     ]
    },
    {
     "name": "stdout",
     "output_type": "stream",
     "text": [
      "[CV] END classifier__C=0.1, classifier__class_weight=None, vectorizer__max_features=20000, vectorizer__ngram_range=(1, 2); total time=  19.6s\n"
     ]
    },
    {
     "name": "stderr",
     "output_type": "stream",
     "text": [
      "/Users/dmitriimartynov/Documents/Projects/nlp-itmo/.venv/lib/python3.13/site-packages/sklearn/linear_model/_logistic.py:1256: FutureWarning: 'multi_class' was deprecated in version 1.5 and will be removed in 1.7. Use OneVsRestClassifier(LogisticRegression(..)) instead. Leave it to its default value to avoid this warning.\n",
      "  warnings.warn(\n"
     ]
    },
    {
     "name": "stdout",
     "output_type": "stream",
     "text": [
      "[CV] END classifier__C=0.1, classifier__class_weight=balanced, vectorizer__max_features=10000, vectorizer__ngram_range=(1, 1); total time=   7.4s\n"
     ]
    },
    {
     "name": "stderr",
     "output_type": "stream",
     "text": [
      "/Users/dmitriimartynov/Documents/Projects/nlp-itmo/.venv/lib/python3.13/site-packages/sklearn/linear_model/_logistic.py:1256: FutureWarning: 'multi_class' was deprecated in version 1.5 and will be removed in 1.7. Use OneVsRestClassifier(LogisticRegression(..)) instead. Leave it to its default value to avoid this warning.\n",
      "  warnings.warn(\n"
     ]
    },
    {
     "name": "stdout",
     "output_type": "stream",
     "text": [
      "[CV] END classifier__C=0.1, classifier__class_weight=None, vectorizer__max_features=None, vectorizer__ngram_range=(1, 2); total time=  11.9s\n",
      "[CV] END classifier__C=0.1, classifier__class_weight=None, vectorizer__max_features=None, vectorizer__ngram_range=(1, 2); total time=  11.8s\n",
      "[CV] END classifier__C=0.1, classifier__class_weight=None, vectorizer__max_features=None, vectorizer__ngram_range=(1, 2); total time=  11.8s\n",
      "[CV] END classifier__C=0.1, classifier__class_weight=balanced, vectorizer__max_features=10000, vectorizer__ngram_range=(1, 1); total time=   5.8s\n"
     ]
    },
    {
     "name": "stderr",
     "output_type": "stream",
     "text": [
      "/Users/dmitriimartynov/Documents/Projects/nlp-itmo/.venv/lib/python3.13/site-packages/sklearn/linear_model/_logistic.py:1256: FutureWarning: 'multi_class' was deprecated in version 1.5 and will be removed in 1.7. Use OneVsRestClassifier(LogisticRegression(..)) instead. Leave it to its default value to avoid this warning.\n",
      "  warnings.warn(\n",
      "/Users/dmitriimartynov/Documents/Projects/nlp-itmo/.venv/lib/python3.13/site-packages/sklearn/linear_model/_logistic.py:1256: FutureWarning: 'multi_class' was deprecated in version 1.5 and will be removed in 1.7. Use OneVsRestClassifier(LogisticRegression(..)) instead. Leave it to its default value to avoid this warning.\n",
      "  warnings.warn(\n",
      "/Users/dmitriimartynov/Documents/Projects/nlp-itmo/.venv/lib/python3.13/site-packages/sklearn/linear_model/_logistic.py:1256: FutureWarning: 'multi_class' was deprecated in version 1.5 and will be removed in 1.7. Use OneVsRestClassifier(LogisticRegression(..)) instead. Leave it to its default value to avoid this warning.\n",
      "  warnings.warn(\n"
     ]
    },
    {
     "name": "stdout",
     "output_type": "stream",
     "text": [
      "[CV] END classifier__C=0.1, classifier__class_weight=balanced, vectorizer__max_features=20000, vectorizer__ngram_range=(1, 1); total time=   5.3s\n",
      "[CV] END classifier__C=0.1, classifier__class_weight=balanced, vectorizer__max_features=20000, vectorizer__ngram_range=(1, 1); total time=   4.4s\n",
      "[CV] END classifier__C=0.1, classifier__class_weight=balanced, vectorizer__max_features=20000, vectorizer__ngram_range=(1, 1); total time=   4.7s\n"
     ]
    },
    {
     "name": "stderr",
     "output_type": "stream",
     "text": [
      "/Users/dmitriimartynov/Documents/Projects/nlp-itmo/.venv/lib/python3.13/site-packages/sklearn/linear_model/_logistic.py:1256: FutureWarning: 'multi_class' was deprecated in version 1.5 and will be removed in 1.7. Use OneVsRestClassifier(LogisticRegression(..)) instead. Leave it to its default value to avoid this warning.\n",
      "  warnings.warn(\n",
      "/Users/dmitriimartynov/Documents/Projects/nlp-itmo/.venv/lib/python3.13/site-packages/sklearn/linear_model/_logistic.py:1256: FutureWarning: 'multi_class' was deprecated in version 1.5 and will be removed in 1.7. Use OneVsRestClassifier(LogisticRegression(..)) instead. Leave it to its default value to avoid this warning.\n",
      "  warnings.warn(\n",
      "/Users/dmitriimartynov/Documents/Projects/nlp-itmo/.venv/lib/python3.13/site-packages/sklearn/linear_model/_logistic.py:1256: FutureWarning: 'multi_class' was deprecated in version 1.5 and will be removed in 1.7. Use OneVsRestClassifier(LogisticRegression(..)) instead. Leave it to its default value to avoid this warning.\n",
      "  warnings.warn(\n",
      "/Users/dmitriimartynov/Documents/Projects/nlp-itmo/.venv/lib/python3.13/site-packages/sklearn/linear_model/_logistic.py:1256: FutureWarning: 'multi_class' was deprecated in version 1.5 and will be removed in 1.7. Use OneVsRestClassifier(LogisticRegression(..)) instead. Leave it to its default value to avoid this warning.\n",
      "  warnings.warn(\n",
      "/Users/dmitriimartynov/Documents/Projects/nlp-itmo/.venv/lib/python3.13/site-packages/sklearn/linear_model/_logistic.py:1256: FutureWarning: 'multi_class' was deprecated in version 1.5 and will be removed in 1.7. Use OneVsRestClassifier(LogisticRegression(..)) instead. Leave it to its default value to avoid this warning.\n",
      "  warnings.warn(\n"
     ]
    },
    {
     "name": "stdout",
     "output_type": "stream",
     "text": [
      "[CV] END classifier__C=0.1, classifier__class_weight=balanced, vectorizer__max_features=None, vectorizer__ngram_range=(1, 1); total time=   4.3s\n",
      "[CV] END classifier__C=0.1, classifier__class_weight=balanced, vectorizer__max_features=None, vectorizer__ngram_range=(1, 1); total time=   4.3s\n",
      "[CV] END classifier__C=0.1, classifier__class_weight=balanced, vectorizer__max_features=10000, vectorizer__ngram_range=(1, 2); total time=  16.0s\n",
      "[CV] END classifier__C=0.1, classifier__class_weight=balanced, vectorizer__max_features=10000, vectorizer__ngram_range=(1, 2); total time=  15.6s\n",
      "[CV] END classifier__C=0.1, classifier__class_weight=balanced, vectorizer__max_features=10000, vectorizer__ngram_range=(1, 2); total time=  16.4s\n"
     ]
    },
    {
     "name": "stderr",
     "output_type": "stream",
     "text": [
      "/Users/dmitriimartynov/Documents/Projects/nlp-itmo/.venv/lib/python3.13/site-packages/sklearn/linear_model/_logistic.py:1256: FutureWarning: 'multi_class' was deprecated in version 1.5 and will be removed in 1.7. Use OneVsRestClassifier(LogisticRegression(..)) instead. Leave it to its default value to avoid this warning.\n",
      "  warnings.warn(\n"
     ]
    },
    {
     "name": "stdout",
     "output_type": "stream",
     "text": [
      "[CV] END classifier__C=0.1, classifier__class_weight=balanced, vectorizer__max_features=None, vectorizer__ngram_range=(1, 1); total time=   3.9s\n"
     ]
    },
    {
     "name": "stderr",
     "output_type": "stream",
     "text": [
      "/Users/dmitriimartynov/Documents/Projects/nlp-itmo/.venv/lib/python3.13/site-packages/sklearn/linear_model/_logistic.py:1256: FutureWarning: 'multi_class' was deprecated in version 1.5 and will be removed in 1.7. Use OneVsRestClassifier(LogisticRegression(..)) instead. Leave it to its default value to avoid this warning.\n",
      "  warnings.warn(\n",
      "/Users/dmitriimartynov/Documents/Projects/nlp-itmo/.venv/lib/python3.13/site-packages/sklearn/linear_model/_logistic.py:1256: FutureWarning: 'multi_class' was deprecated in version 1.5 and will be removed in 1.7. Use OneVsRestClassifier(LogisticRegression(..)) instead. Leave it to its default value to avoid this warning.\n",
      "  warnings.warn(\n",
      "/Users/dmitriimartynov/Documents/Projects/nlp-itmo/.venv/lib/python3.13/site-packages/sklearn/linear_model/_logistic.py:1256: FutureWarning: 'multi_class' was deprecated in version 1.5 and will be removed in 1.7. Use OneVsRestClassifier(LogisticRegression(..)) instead. Leave it to its default value to avoid this warning.\n",
      "  warnings.warn(\n"
     ]
    },
    {
     "name": "stdout",
     "output_type": "stream",
     "text": [
      "[CV] END classifier__C=0.1, classifier__class_weight=balanced, vectorizer__max_features=20000, vectorizer__ngram_range=(1, 2); total time=  15.9s\n"
     ]
    },
    {
     "name": "stderr",
     "output_type": "stream",
     "text": [
      "/Users/dmitriimartynov/Documents/Projects/nlp-itmo/.venv/lib/python3.13/site-packages/sklearn/linear_model/_logistic.py:1256: FutureWarning: 'multi_class' was deprecated in version 1.5 and will be removed in 1.7. Use OneVsRestClassifier(LogisticRegression(..)) instead. Leave it to its default value to avoid this warning.\n",
      "  warnings.warn(\n",
      "/Users/dmitriimartynov/Documents/Projects/nlp-itmo/.venv/lib/python3.13/site-packages/sklearn/linear_model/_logistic.py:1256: FutureWarning: 'multi_class' was deprecated in version 1.5 and will be removed in 1.7. Use OneVsRestClassifier(LogisticRegression(..)) instead. Leave it to its default value to avoid this warning.\n",
      "  warnings.warn(\n",
      "/Users/dmitriimartynov/Documents/Projects/nlp-itmo/.venv/lib/python3.13/site-packages/sklearn/linear_model/_logistic.py:1256: FutureWarning: 'multi_class' was deprecated in version 1.5 and will be removed in 1.7. Use OneVsRestClassifier(LogisticRegression(..)) instead. Leave it to its default value to avoid this warning.\n",
      "  warnings.warn(\n"
     ]
    },
    {
     "name": "stdout",
     "output_type": "stream",
     "text": [
      "[CV] END classifier__C=0.1, classifier__class_weight=balanced, vectorizer__max_features=20000, vectorizer__ngram_range=(1, 2); total time=  17.5s\n",
      "[CV] END classifier__C=1.0, classifier__class_weight=None, vectorizer__max_features=10000, vectorizer__ngram_range=(1, 1); total time=   6.0s\n"
     ]
    },
    {
     "name": "stderr",
     "output_type": "stream",
     "text": [
      "/Users/dmitriimartynov/Documents/Projects/nlp-itmo/.venv/lib/python3.13/site-packages/sklearn/linear_model/_logistic.py:1256: FutureWarning: 'multi_class' was deprecated in version 1.5 and will be removed in 1.7. Use OneVsRestClassifier(LogisticRegression(..)) instead. Leave it to its default value to avoid this warning.\n",
      "  warnings.warn(\n"
     ]
    },
    {
     "name": "stdout",
     "output_type": "stream",
     "text": [
      "[CV] END classifier__C=0.1, classifier__class_weight=balanced, vectorizer__max_features=None, vectorizer__ngram_range=(1, 2); total time=   9.4s\n",
      "[CV] END classifier__C=1.0, classifier__class_weight=None, vectorizer__max_features=10000, vectorizer__ngram_range=(1, 1); total time=   5.8s\n"
     ]
    },
    {
     "name": "stderr",
     "output_type": "stream",
     "text": [
      "/Users/dmitriimartynov/Documents/Projects/nlp-itmo/.venv/lib/python3.13/site-packages/sklearn/linear_model/_logistic.py:1256: FutureWarning: 'multi_class' was deprecated in version 1.5 and will be removed in 1.7. Use OneVsRestClassifier(LogisticRegression(..)) instead. Leave it to its default value to avoid this warning.\n",
      "  warnings.warn(\n"
     ]
    },
    {
     "name": "stdout",
     "output_type": "stream",
     "text": [
      "[CV] END classifier__C=0.1, classifier__class_weight=balanced, vectorizer__max_features=None, vectorizer__ngram_range=(1, 2); total time=   9.4s\n"
     ]
    },
    {
     "name": "stderr",
     "output_type": "stream",
     "text": [
      "/Users/dmitriimartynov/Documents/Projects/nlp-itmo/.venv/lib/python3.13/site-packages/sklearn/linear_model/_logistic.py:1256: FutureWarning: 'multi_class' was deprecated in version 1.5 and will be removed in 1.7. Use OneVsRestClassifier(LogisticRegression(..)) instead. Leave it to its default value to avoid this warning.\n",
      "  warnings.warn(\n"
     ]
    },
    {
     "name": "stdout",
     "output_type": "stream",
     "text": [
      "[CV] END classifier__C=0.1, classifier__class_weight=balanced, vectorizer__max_features=None, vectorizer__ngram_range=(1, 2); total time=   9.7s\n",
      "[CV] END classifier__C=1.0, classifier__class_weight=None, vectorizer__max_features=10000, vectorizer__ngram_range=(1, 1); total time=   5.6s\n",
      "[CV] END classifier__C=0.1, classifier__class_weight=balanced, vectorizer__max_features=20000, vectorizer__ngram_range=(1, 2); total time=  19.2s\n"
     ]
    },
    {
     "name": "stderr",
     "output_type": "stream",
     "text": [
      "/Users/dmitriimartynov/Documents/Projects/nlp-itmo/.venv/lib/python3.13/site-packages/sklearn/linear_model/_logistic.py:1256: FutureWarning: 'multi_class' was deprecated in version 1.5 and will be removed in 1.7. Use OneVsRestClassifier(LogisticRegression(..)) instead. Leave it to its default value to avoid this warning.\n",
      "  warnings.warn(\n",
      "/Users/dmitriimartynov/Documents/Projects/nlp-itmo/.venv/lib/python3.13/site-packages/sklearn/linear_model/_logistic.py:1256: FutureWarning: 'multi_class' was deprecated in version 1.5 and will be removed in 1.7. Use OneVsRestClassifier(LogisticRegression(..)) instead. Leave it to its default value to avoid this warning.\n",
      "  warnings.warn(\n",
      "/Users/dmitriimartynov/Documents/Projects/nlp-itmo/.venv/lib/python3.13/site-packages/sklearn/linear_model/_logistic.py:1256: FutureWarning: 'multi_class' was deprecated in version 1.5 and will be removed in 1.7. Use OneVsRestClassifier(LogisticRegression(..)) instead. Leave it to its default value to avoid this warning.\n",
      "  warnings.warn(\n"
     ]
    },
    {
     "name": "stdout",
     "output_type": "stream",
     "text": [
      "[CV] END classifier__C=1.0, classifier__class_weight=None, vectorizer__max_features=20000, vectorizer__ngram_range=(1, 1); total time=   5.4s\n",
      "[CV] END classifier__C=1.0, classifier__class_weight=None, vectorizer__max_features=20000, vectorizer__ngram_range=(1, 1); total time=   5.4s\n",
      "[CV] END classifier__C=1.0, classifier__class_weight=None, vectorizer__max_features=20000, vectorizer__ngram_range=(1, 1); total time=   6.3s\n"
     ]
    },
    {
     "name": "stderr",
     "output_type": "stream",
     "text": [
      "/Users/dmitriimartynov/Documents/Projects/nlp-itmo/.venv/lib/python3.13/site-packages/sklearn/linear_model/_logistic.py:1256: FutureWarning: 'multi_class' was deprecated in version 1.5 and will be removed in 1.7. Use OneVsRestClassifier(LogisticRegression(..)) instead. Leave it to its default value to avoid this warning.\n",
      "  warnings.warn(\n",
      "/Users/dmitriimartynov/Documents/Projects/nlp-itmo/.venv/lib/python3.13/site-packages/sklearn/linear_model/_logistic.py:1256: FutureWarning: 'multi_class' was deprecated in version 1.5 and will be removed in 1.7. Use OneVsRestClassifier(LogisticRegression(..)) instead. Leave it to its default value to avoid this warning.\n",
      "  warnings.warn(\n",
      "/Users/dmitriimartynov/Documents/Projects/nlp-itmo/.venv/lib/python3.13/site-packages/sklearn/linear_model/_logistic.py:1256: FutureWarning: 'multi_class' was deprecated in version 1.5 and will be removed in 1.7. Use OneVsRestClassifier(LogisticRegression(..)) instead. Leave it to its default value to avoid this warning.\n",
      "  warnings.warn(\n",
      "/Users/dmitriimartynov/Documents/Projects/nlp-itmo/.venv/lib/python3.13/site-packages/sklearn/linear_model/_logistic.py:1256: FutureWarning: 'multi_class' was deprecated in version 1.5 and will be removed in 1.7. Use OneVsRestClassifier(LogisticRegression(..)) instead. Leave it to its default value to avoid this warning.\n",
      "  warnings.warn(\n"
     ]
    },
    {
     "name": "stdout",
     "output_type": "stream",
     "text": [
      "[CV] END classifier__C=1.0, classifier__class_weight=None, vectorizer__max_features=None, vectorizer__ngram_range=(1, 1); total time=   5.8s\n",
      "[CV] END classifier__C=1.0, classifier__class_weight=None, vectorizer__max_features=None, vectorizer__ngram_range=(1, 1); total time=   5.7s\n",
      "[CV] END classifier__C=1.0, classifier__class_weight=None, vectorizer__max_features=10000, vectorizer__ngram_range=(1, 2); total time=  16.5s\n"
     ]
    },
    {
     "name": "stderr",
     "output_type": "stream",
     "text": [
      "/Users/dmitriimartynov/Documents/Projects/nlp-itmo/.venv/lib/python3.13/site-packages/sklearn/linear_model/_logistic.py:1256: FutureWarning: 'multi_class' was deprecated in version 1.5 and will be removed in 1.7. Use OneVsRestClassifier(LogisticRegression(..)) instead. Leave it to its default value to avoid this warning.\n",
      "  warnings.warn(\n"
     ]
    },
    {
     "name": "stdout",
     "output_type": "stream",
     "text": [
      "[CV] END classifier__C=1.0, classifier__class_weight=None, vectorizer__max_features=10000, vectorizer__ngram_range=(1, 2); total time=  16.7s\n"
     ]
    },
    {
     "name": "stderr",
     "output_type": "stream",
     "text": [
      "/Users/dmitriimartynov/Documents/Projects/nlp-itmo/.venv/lib/python3.13/site-packages/sklearn/linear_model/_logistic.py:1256: FutureWarning: 'multi_class' was deprecated in version 1.5 and will be removed in 1.7. Use OneVsRestClassifier(LogisticRegression(..)) instead. Leave it to its default value to avoid this warning.\n",
      "  warnings.warn(\n",
      "/Users/dmitriimartynov/Documents/Projects/nlp-itmo/.venv/lib/python3.13/site-packages/sklearn/linear_model/_logistic.py:1256: FutureWarning: 'multi_class' was deprecated in version 1.5 and will be removed in 1.7. Use OneVsRestClassifier(LogisticRegression(..)) instead. Leave it to its default value to avoid this warning.\n",
      "  warnings.warn(\n",
      "/Users/dmitriimartynov/Documents/Projects/nlp-itmo/.venv/lib/python3.13/site-packages/sklearn/linear_model/_logistic.py:1256: FutureWarning: 'multi_class' was deprecated in version 1.5 and will be removed in 1.7. Use OneVsRestClassifier(LogisticRegression(..)) instead. Leave it to its default value to avoid this warning.\n",
      "  warnings.warn(\n"
     ]
    },
    {
     "name": "stdout",
     "output_type": "stream",
     "text": [
      "[CV] END classifier__C=1.0, classifier__class_weight=None, vectorizer__max_features=10000, vectorizer__ngram_range=(1, 2); total time=  19.5s\n",
      "[CV] END classifier__C=1.0, classifier__class_weight=None, vectorizer__max_features=None, vectorizer__ngram_range=(1, 1); total time=   5.2s\n",
      "[CV] END classifier__C=1.0, classifier__class_weight=None, vectorizer__max_features=20000, vectorizer__ngram_range=(1, 2); total time=  17.7s\n"
     ]
    },
    {
     "name": "stderr",
     "output_type": "stream",
     "text": [
      "/Users/dmitriimartynov/Documents/Projects/nlp-itmo/.venv/lib/python3.13/site-packages/sklearn/linear_model/_logistic.py:1256: FutureWarning: 'multi_class' was deprecated in version 1.5 and will be removed in 1.7. Use OneVsRestClassifier(LogisticRegression(..)) instead. Leave it to its default value to avoid this warning.\n",
      "  warnings.warn(\n"
     ]
    },
    {
     "name": "stdout",
     "output_type": "stream",
     "text": [
      "[CV] END classifier__C=1.0, classifier__class_weight=None, vectorizer__max_features=20000, vectorizer__ngram_range=(1, 2); total time=  18.6s\n"
     ]
    },
    {
     "name": "stderr",
     "output_type": "stream",
     "text": [
      "/Users/dmitriimartynov/Documents/Projects/nlp-itmo/.venv/lib/python3.13/site-packages/sklearn/linear_model/_logistic.py:1256: FutureWarning: 'multi_class' was deprecated in version 1.5 and will be removed in 1.7. Use OneVsRestClassifier(LogisticRegression(..)) instead. Leave it to its default value to avoid this warning.\n",
      "  warnings.warn(\n",
      "/Users/dmitriimartynov/Documents/Projects/nlp-itmo/.venv/lib/python3.13/site-packages/sklearn/linear_model/_logistic.py:1256: FutureWarning: 'multi_class' was deprecated in version 1.5 and will be removed in 1.7. Use OneVsRestClassifier(LogisticRegression(..)) instead. Leave it to its default value to avoid this warning.\n",
      "  warnings.warn(\n",
      "/Users/dmitriimartynov/Documents/Projects/nlp-itmo/.venv/lib/python3.13/site-packages/sklearn/linear_model/_logistic.py:1256: FutureWarning: 'multi_class' was deprecated in version 1.5 and will be removed in 1.7. Use OneVsRestClassifier(LogisticRegression(..)) instead. Leave it to its default value to avoid this warning.\n",
      "  warnings.warn(\n",
      "/Users/dmitriimartynov/Documents/Projects/nlp-itmo/.venv/lib/python3.13/site-packages/sklearn/linear_model/_logistic.py:1256: FutureWarning: 'multi_class' was deprecated in version 1.5 and will be removed in 1.7. Use OneVsRestClassifier(LogisticRegression(..)) instead. Leave it to its default value to avoid this warning.\n",
      "  warnings.warn(\n",
      "/Users/dmitriimartynov/Documents/Projects/nlp-itmo/.venv/lib/python3.13/site-packages/sklearn/linear_model/_logistic.py:1256: FutureWarning: 'multi_class' was deprecated in version 1.5 and will be removed in 1.7. Use OneVsRestClassifier(LogisticRegression(..)) instead. Leave it to its default value to avoid this warning.\n",
      "  warnings.warn(\n"
     ]
    },
    {
     "name": "stdout",
     "output_type": "stream",
     "text": [
      "[CV] END classifier__C=1.0, classifier__class_weight=balanced, vectorizer__max_features=10000, vectorizer__ngram_range=(1, 1); total time=   5.6s\n"
     ]
    },
    {
     "name": "stderr",
     "output_type": "stream",
     "text": [
      "/Users/dmitriimartynov/Documents/Projects/nlp-itmo/.venv/lib/python3.13/site-packages/sklearn/linear_model/_logistic.py:1256: FutureWarning: 'multi_class' was deprecated in version 1.5 and will be removed in 1.7. Use OneVsRestClassifier(LogisticRegression(..)) instead. Leave it to its default value to avoid this warning.\n",
      "  warnings.warn(\n"
     ]
    },
    {
     "name": "stdout",
     "output_type": "stream",
     "text": [
      "[CV] END classifier__C=1.0, classifier__class_weight=balanced, vectorizer__max_features=10000, vectorizer__ngram_range=(1, 1); total time=   6.0s\n",
      "[CV] END classifier__C=1.0, classifier__class_weight=None, vectorizer__max_features=None, vectorizer__ngram_range=(1, 2); total time=  11.1s\n",
      "[CV] END classifier__C=1.0, classifier__class_weight=None, vectorizer__max_features=None, vectorizer__ngram_range=(1, 2); total time=  11.0s\n",
      "[CV] END classifier__C=1.0, classifier__class_weight=None, vectorizer__max_features=20000, vectorizer__ngram_range=(1, 2); total time=  19.8s\n",
      "[CV] END classifier__C=1.0, classifier__class_weight=balanced, vectorizer__max_features=10000, vectorizer__ngram_range=(1, 1); total time=   5.4s\n",
      "[CV] END classifier__C=1.0, classifier__class_weight=None, vectorizer__max_features=None, vectorizer__ngram_range=(1, 2); total time=  10.7s\n"
     ]
    },
    {
     "name": "stderr",
     "output_type": "stream",
     "text": [
      "/Users/dmitriimartynov/Documents/Projects/nlp-itmo/.venv/lib/python3.13/site-packages/sklearn/linear_model/_logistic.py:1256: FutureWarning: 'multi_class' was deprecated in version 1.5 and will be removed in 1.7. Use OneVsRestClassifier(LogisticRegression(..)) instead. Leave it to its default value to avoid this warning.\n",
      "  warnings.warn(\n",
      "/Users/dmitriimartynov/Documents/Projects/nlp-itmo/.venv/lib/python3.13/site-packages/sklearn/linear_model/_logistic.py:1256: FutureWarning: 'multi_class' was deprecated in version 1.5 and will be removed in 1.7. Use OneVsRestClassifier(LogisticRegression(..)) instead. Leave it to its default value to avoid this warning.\n",
      "  warnings.warn(\n"
     ]
    },
    {
     "name": "stdout",
     "output_type": "stream",
     "text": [
      "[CV] END classifier__C=1.0, classifier__class_weight=balanced, vectorizer__max_features=20000, vectorizer__ngram_range=(1, 1); total time=   5.2s\n",
      "[CV] END classifier__C=1.0, classifier__class_weight=balanced, vectorizer__max_features=20000, vectorizer__ngram_range=(1, 1); total time=   5.6s\n"
     ]
    },
    {
     "name": "stderr",
     "output_type": "stream",
     "text": [
      "/Users/dmitriimartynov/Documents/Projects/nlp-itmo/.venv/lib/python3.13/site-packages/sklearn/linear_model/_logistic.py:1256: FutureWarning: 'multi_class' was deprecated in version 1.5 and will be removed in 1.7. Use OneVsRestClassifier(LogisticRegression(..)) instead. Leave it to its default value to avoid this warning.\n",
      "  warnings.warn(\n"
     ]
    },
    {
     "name": "stdout",
     "output_type": "stream",
     "text": [
      "[CV] END classifier__C=1.0, classifier__class_weight=balanced, vectorizer__max_features=20000, vectorizer__ngram_range=(1, 1); total time=   6.8s\n"
     ]
    },
    {
     "name": "stderr",
     "output_type": "stream",
     "text": [
      "/Users/dmitriimartynov/Documents/Projects/nlp-itmo/.venv/lib/python3.13/site-packages/sklearn/linear_model/_logistic.py:1256: FutureWarning: 'multi_class' was deprecated in version 1.5 and will be removed in 1.7. Use OneVsRestClassifier(LogisticRegression(..)) instead. Leave it to its default value to avoid this warning.\n",
      "  warnings.warn(\n",
      "/Users/dmitriimartynov/Documents/Projects/nlp-itmo/.venv/lib/python3.13/site-packages/sklearn/linear_model/_logistic.py:1256: FutureWarning: 'multi_class' was deprecated in version 1.5 and will be removed in 1.7. Use OneVsRestClassifier(LogisticRegression(..)) instead. Leave it to its default value to avoid this warning.\n",
      "  warnings.warn(\n",
      "/Users/dmitriimartynov/Documents/Projects/nlp-itmo/.venv/lib/python3.13/site-packages/sklearn/linear_model/_logistic.py:1256: FutureWarning: 'multi_class' was deprecated in version 1.5 and will be removed in 1.7. Use OneVsRestClassifier(LogisticRegression(..)) instead. Leave it to its default value to avoid this warning.\n",
      "  warnings.warn(\n"
     ]
    },
    {
     "name": "stdout",
     "output_type": "stream",
     "text": [
      "[CV] END classifier__C=1.0, classifier__class_weight=balanced, vectorizer__max_features=None, vectorizer__ngram_range=(1, 1); total time=   7.8s\n"
     ]
    },
    {
     "name": "stderr",
     "output_type": "stream",
     "text": [
      "/Users/dmitriimartynov/Documents/Projects/nlp-itmo/.venv/lib/python3.13/site-packages/sklearn/linear_model/_logistic.py:1256: FutureWarning: 'multi_class' was deprecated in version 1.5 and will be removed in 1.7. Use OneVsRestClassifier(LogisticRegression(..)) instead. Leave it to its default value to avoid this warning.\n",
      "  warnings.warn(\n",
      "/Users/dmitriimartynov/Documents/Projects/nlp-itmo/.venv/lib/python3.13/site-packages/sklearn/linear_model/_logistic.py:1256: FutureWarning: 'multi_class' was deprecated in version 1.5 and will be removed in 1.7. Use OneVsRestClassifier(LogisticRegression(..)) instead. Leave it to its default value to avoid this warning.\n",
      "  warnings.warn(\n"
     ]
    },
    {
     "name": "stdout",
     "output_type": "stream",
     "text": [
      "[CV] END classifier__C=1.0, classifier__class_weight=balanced, vectorizer__max_features=10000, vectorizer__ngram_range=(1, 2); total time=  20.1s\n",
      "[CV] END classifier__C=1.0, classifier__class_weight=balanced, vectorizer__max_features=None, vectorizer__ngram_range=(1, 1); total time=   7.3s\n"
     ]
    },
    {
     "name": "stderr",
     "output_type": "stream",
     "text": [
      "/Users/dmitriimartynov/Documents/Projects/nlp-itmo/.venv/lib/python3.13/site-packages/sklearn/linear_model/_logistic.py:1256: FutureWarning: 'multi_class' was deprecated in version 1.5 and will be removed in 1.7. Use OneVsRestClassifier(LogisticRegression(..)) instead. Leave it to its default value to avoid this warning.\n",
      "  warnings.warn(\n",
      "/Users/dmitriimartynov/Documents/Projects/nlp-itmo/.venv/lib/python3.13/site-packages/sklearn/linear_model/_logistic.py:1256: FutureWarning: 'multi_class' was deprecated in version 1.5 and will be removed in 1.7. Use OneVsRestClassifier(LogisticRegression(..)) instead. Leave it to its default value to avoid this warning.\n",
      "  warnings.warn(\n",
      "/Users/dmitriimartynov/Documents/Projects/nlp-itmo/.venv/lib/python3.13/site-packages/sklearn/linear_model/_logistic.py:1256: FutureWarning: 'multi_class' was deprecated in version 1.5 and will be removed in 1.7. Use OneVsRestClassifier(LogisticRegression(..)) instead. Leave it to its default value to avoid this warning.\n",
      "  warnings.warn(\n"
     ]
    },
    {
     "name": "stdout",
     "output_type": "stream",
     "text": [
      "[CV] END classifier__C=1.0, classifier__class_weight=balanced, vectorizer__max_features=10000, vectorizer__ngram_range=(1, 2); total time=  18.7s\n",
      "[CV] END classifier__C=1.0, classifier__class_weight=balanced, vectorizer__max_features=10000, vectorizer__ngram_range=(1, 2); total time=  20.5s\n",
      "[CV] END classifier__C=1.0, classifier__class_weight=balanced, vectorizer__max_features=None, vectorizer__ngram_range=(1, 1); total time=   4.8s\n",
      "[CV] END classifier__C=1.0, classifier__class_weight=balanced, vectorizer__max_features=20000, vectorizer__ngram_range=(1, 2); total time=  19.2s\n",
      "[CV] END classifier__C=1.0, classifier__class_weight=balanced, vectorizer__max_features=20000, vectorizer__ngram_range=(1, 2); total time=  19.1s\n"
     ]
    },
    {
     "name": "stderr",
     "output_type": "stream",
     "text": [
      "/Users/dmitriimartynov/Documents/Projects/nlp-itmo/.venv/lib/python3.13/site-packages/sklearn/linear_model/_logistic.py:1256: FutureWarning: 'multi_class' was deprecated in version 1.5 and will be removed in 1.7. Use OneVsRestClassifier(LogisticRegression(..)) instead. Leave it to its default value to avoid this warning.\n",
      "  warnings.warn(\n",
      "/Users/dmitriimartynov/Documents/Projects/nlp-itmo/.venv/lib/python3.13/site-packages/sklearn/linear_model/_logistic.py:1256: FutureWarning: 'multi_class' was deprecated in version 1.5 and will be removed in 1.7. Use OneVsRestClassifier(LogisticRegression(..)) instead. Leave it to its default value to avoid this warning.\n",
      "  warnings.warn(\n",
      "/Users/dmitriimartynov/Documents/Projects/nlp-itmo/.venv/lib/python3.13/site-packages/sklearn/linear_model/_logistic.py:1256: FutureWarning: 'multi_class' was deprecated in version 1.5 and will be removed in 1.7. Use OneVsRestClassifier(LogisticRegression(..)) instead. Leave it to its default value to avoid this warning.\n",
      "  warnings.warn(\n",
      "/Users/dmitriimartynov/Documents/Projects/nlp-itmo/.venv/lib/python3.13/site-packages/sklearn/linear_model/_logistic.py:1256: FutureWarning: 'multi_class' was deprecated in version 1.5 and will be removed in 1.7. Use OneVsRestClassifier(LogisticRegression(..)) instead. Leave it to its default value to avoid this warning.\n",
      "  warnings.warn(\n",
      "/Users/dmitriimartynov/Documents/Projects/nlp-itmo/.venv/lib/python3.13/site-packages/sklearn/linear_model/_logistic.py:1256: FutureWarning: 'multi_class' was deprecated in version 1.5 and will be removed in 1.7. Use OneVsRestClassifier(LogisticRegression(..)) instead. Leave it to its default value to avoid this warning.\n",
      "  warnings.warn(\n"
     ]
    },
    {
     "name": "stdout",
     "output_type": "stream",
     "text": [
      "[CV] END classifier__C=10.0, classifier__class_weight=None, vectorizer__max_features=10000, vectorizer__ngram_range=(1, 1); total time=   6.6s\n"
     ]
    },
    {
     "name": "stderr",
     "output_type": "stream",
     "text": [
      "/Users/dmitriimartynov/Documents/Projects/nlp-itmo/.venv/lib/python3.13/site-packages/sklearn/linear_model/_logistic.py:1256: FutureWarning: 'multi_class' was deprecated in version 1.5 and will be removed in 1.7. Use OneVsRestClassifier(LogisticRegression(..)) instead. Leave it to its default value to avoid this warning.\n",
      "  warnings.warn(\n",
      "/Users/dmitriimartynov/Documents/Projects/nlp-itmo/.venv/lib/python3.13/site-packages/sklearn/linear_model/_logistic.py:1256: FutureWarning: 'multi_class' was deprecated in version 1.5 and will be removed in 1.7. Use OneVsRestClassifier(LogisticRegression(..)) instead. Leave it to its default value to avoid this warning.\n",
      "  warnings.warn(\n"
     ]
    },
    {
     "name": "stdout",
     "output_type": "stream",
     "text": [
      "[CV] END classifier__C=1.0, classifier__class_weight=balanced, vectorizer__max_features=None, vectorizer__ngram_range=(1, 2); total time=  10.7s\n",
      "[CV] END classifier__C=1.0, classifier__class_weight=balanced, vectorizer__max_features=None, vectorizer__ngram_range=(1, 2); total time=  10.7s\n",
      "[CV] END classifier__C=10.0, classifier__class_weight=None, vectorizer__max_features=10000, vectorizer__ngram_range=(1, 1); total time=   6.4s\n",
      "[CV] END classifier__C=10.0, classifier__class_weight=None, vectorizer__max_features=10000, vectorizer__ngram_range=(1, 1); total time=   6.6s\n",
      "[CV] END classifier__C=1.0, classifier__class_weight=balanced, vectorizer__max_features=20000, vectorizer__ngram_range=(1, 2); total time=  22.6s\n",
      "[CV] END classifier__C=1.0, classifier__class_weight=balanced, vectorizer__max_features=None, vectorizer__ngram_range=(1, 2); total time=  10.2s\n"
     ]
    },
    {
     "name": "stderr",
     "output_type": "stream",
     "text": [
      "/Users/dmitriimartynov/Documents/Projects/nlp-itmo/.venv/lib/python3.13/site-packages/sklearn/linear_model/_logistic.py:1256: FutureWarning: 'multi_class' was deprecated in version 1.5 and will be removed in 1.7. Use OneVsRestClassifier(LogisticRegression(..)) instead. Leave it to its default value to avoid this warning.\n",
      "  warnings.warn(\n",
      "/Users/dmitriimartynov/Documents/Projects/nlp-itmo/.venv/lib/python3.13/site-packages/sklearn/linear_model/_logistic.py:1256: FutureWarning: 'multi_class' was deprecated in version 1.5 and will be removed in 1.7. Use OneVsRestClassifier(LogisticRegression(..)) instead. Leave it to its default value to avoid this warning.\n",
      "  warnings.warn(\n",
      "/Users/dmitriimartynov/Documents/Projects/nlp-itmo/.venv/lib/python3.13/site-packages/sklearn/linear_model/_logistic.py:1256: FutureWarning: 'multi_class' was deprecated in version 1.5 and will be removed in 1.7. Use OneVsRestClassifier(LogisticRegression(..)) instead. Leave it to its default value to avoid this warning.\n",
      "  warnings.warn(\n"
     ]
    },
    {
     "name": "stdout",
     "output_type": "stream",
     "text": [
      "[CV] END classifier__C=10.0, classifier__class_weight=None, vectorizer__max_features=20000, vectorizer__ngram_range=(1, 1); total time=   6.1s\n",
      "[CV] END classifier__C=10.0, classifier__class_weight=None, vectorizer__max_features=20000, vectorizer__ngram_range=(1, 1); total time=   7.0s\n",
      "[CV] END classifier__C=10.0, classifier__class_weight=None, vectorizer__max_features=20000, vectorizer__ngram_range=(1, 1); total time=   7.2s\n"
     ]
    },
    {
     "name": "stderr",
     "output_type": "stream",
     "text": [
      "/Users/dmitriimartynov/Documents/Projects/nlp-itmo/.venv/lib/python3.13/site-packages/sklearn/linear_model/_logistic.py:1256: FutureWarning: 'multi_class' was deprecated in version 1.5 and will be removed in 1.7. Use OneVsRestClassifier(LogisticRegression(..)) instead. Leave it to its default value to avoid this warning.\n",
      "  warnings.warn(\n",
      "/Users/dmitriimartynov/Documents/Projects/nlp-itmo/.venv/lib/python3.13/site-packages/sklearn/linear_model/_logistic.py:1256: FutureWarning: 'multi_class' was deprecated in version 1.5 and will be removed in 1.7. Use OneVsRestClassifier(LogisticRegression(..)) instead. Leave it to its default value to avoid this warning.\n",
      "  warnings.warn(\n",
      "/Users/dmitriimartynov/Documents/Projects/nlp-itmo/.venv/lib/python3.13/site-packages/sklearn/linear_model/_logistic.py:1256: FutureWarning: 'multi_class' was deprecated in version 1.5 and will be removed in 1.7. Use OneVsRestClassifier(LogisticRegression(..)) instead. Leave it to its default value to avoid this warning.\n",
      "  warnings.warn(\n",
      "/Users/dmitriimartynov/Documents/Projects/nlp-itmo/.venv/lib/python3.13/site-packages/sklearn/linear_model/_logistic.py:1256: FutureWarning: 'multi_class' was deprecated in version 1.5 and will be removed in 1.7. Use OneVsRestClassifier(LogisticRegression(..)) instead. Leave it to its default value to avoid this warning.\n",
      "  warnings.warn(\n"
     ]
    },
    {
     "name": "stdout",
     "output_type": "stream",
     "text": [
      "[CV] END classifier__C=10.0, classifier__class_weight=None, vectorizer__max_features=10000, vectorizer__ngram_range=(1, 2); total time=  18.8s\n"
     ]
    },
    {
     "name": "stderr",
     "output_type": "stream",
     "text": [
      "/Users/dmitriimartynov/Documents/Projects/nlp-itmo/.venv/lib/python3.13/site-packages/sklearn/linear_model/_logistic.py:1256: FutureWarning: 'multi_class' was deprecated in version 1.5 and will be removed in 1.7. Use OneVsRestClassifier(LogisticRegression(..)) instead. Leave it to its default value to avoid this warning.\n",
      "  warnings.warn(\n"
     ]
    },
    {
     "name": "stdout",
     "output_type": "stream",
     "text": [
      "[CV] END classifier__C=10.0, classifier__class_weight=None, vectorizer__max_features=None, vectorizer__ngram_range=(1, 1); total time=   6.1s\n",
      "[CV] END classifier__C=10.0, classifier__class_weight=None, vectorizer__max_features=None, vectorizer__ngram_range=(1, 1); total time=   5.8s\n",
      "[CV] END classifier__C=10.0, classifier__class_weight=None, vectorizer__max_features=10000, vectorizer__ngram_range=(1, 2); total time=  16.7s\n"
     ]
    },
    {
     "name": "stderr",
     "output_type": "stream",
     "text": [
      "/Users/dmitriimartynov/Documents/Projects/nlp-itmo/.venv/lib/python3.13/site-packages/sklearn/linear_model/_logistic.py:1256: FutureWarning: 'multi_class' was deprecated in version 1.5 and will be removed in 1.7. Use OneVsRestClassifier(LogisticRegression(..)) instead. Leave it to its default value to avoid this warning.\n",
      "  warnings.warn(\n",
      "/Users/dmitriimartynov/Documents/Projects/nlp-itmo/.venv/lib/python3.13/site-packages/sklearn/linear_model/_logistic.py:1256: FutureWarning: 'multi_class' was deprecated in version 1.5 and will be removed in 1.7. Use OneVsRestClassifier(LogisticRegression(..)) instead. Leave it to its default value to avoid this warning.\n",
      "  warnings.warn(\n",
      "/Users/dmitriimartynov/Documents/Projects/nlp-itmo/.venv/lib/python3.13/site-packages/sklearn/linear_model/_logistic.py:1256: FutureWarning: 'multi_class' was deprecated in version 1.5 and will be removed in 1.7. Use OneVsRestClassifier(LogisticRegression(..)) instead. Leave it to its default value to avoid this warning.\n",
      "  warnings.warn(\n"
     ]
    },
    {
     "name": "stdout",
     "output_type": "stream",
     "text": [
      "[CV] END classifier__C=10.0, classifier__class_weight=None, vectorizer__max_features=10000, vectorizer__ngram_range=(1, 2); total time=  18.4s\n",
      "[CV] END classifier__C=10.0, classifier__class_weight=None, vectorizer__max_features=None, vectorizer__ngram_range=(1, 1); total time=   6.3s\n",
      "[CV] END classifier__C=10.0, classifier__class_weight=None, vectorizer__max_features=20000, vectorizer__ngram_range=(1, 2); total time=  18.6s\n"
     ]
    },
    {
     "name": "stderr",
     "output_type": "stream",
     "text": [
      "/Users/dmitriimartynov/Documents/Projects/nlp-itmo/.venv/lib/python3.13/site-packages/sklearn/linear_model/_logistic.py:1256: FutureWarning: 'multi_class' was deprecated in version 1.5 and will be removed in 1.7. Use OneVsRestClassifier(LogisticRegression(..)) instead. Leave it to its default value to avoid this warning.\n",
      "  warnings.warn(\n",
      "/Users/dmitriimartynov/Documents/Projects/nlp-itmo/.venv/lib/python3.13/site-packages/sklearn/linear_model/_logistic.py:1256: FutureWarning: 'multi_class' was deprecated in version 1.5 and will be removed in 1.7. Use OneVsRestClassifier(LogisticRegression(..)) instead. Leave it to its default value to avoid this warning.\n",
      "  warnings.warn(\n"
     ]
    },
    {
     "name": "stdout",
     "output_type": "stream",
     "text": [
      "[CV] END classifier__C=10.0, classifier__class_weight=None, vectorizer__max_features=20000, vectorizer__ngram_range=(1, 2); total time=  20.2s\n"
     ]
    },
    {
     "name": "stderr",
     "output_type": "stream",
     "text": [
      "/Users/dmitriimartynov/Documents/Projects/nlp-itmo/.venv/lib/python3.13/site-packages/sklearn/linear_model/_logistic.py:1256: FutureWarning: 'multi_class' was deprecated in version 1.5 and will be removed in 1.7. Use OneVsRestClassifier(LogisticRegression(..)) instead. Leave it to its default value to avoid this warning.\n",
      "  warnings.warn(\n",
      "/Users/dmitriimartynov/Documents/Projects/nlp-itmo/.venv/lib/python3.13/site-packages/sklearn/linear_model/_logistic.py:1256: FutureWarning: 'multi_class' was deprecated in version 1.5 and will be removed in 1.7. Use OneVsRestClassifier(LogisticRegression(..)) instead. Leave it to its default value to avoid this warning.\n",
      "  warnings.warn(\n",
      "/Users/dmitriimartynov/Documents/Projects/nlp-itmo/.venv/lib/python3.13/site-packages/sklearn/linear_model/_logistic.py:1256: FutureWarning: 'multi_class' was deprecated in version 1.5 and will be removed in 1.7. Use OneVsRestClassifier(LogisticRegression(..)) instead. Leave it to its default value to avoid this warning.\n",
      "  warnings.warn(\n",
      "/Users/dmitriimartynov/Documents/Projects/nlp-itmo/.venv/lib/python3.13/site-packages/sklearn/linear_model/_logistic.py:1256: FutureWarning: 'multi_class' was deprecated in version 1.5 and will be removed in 1.7. Use OneVsRestClassifier(LogisticRegression(..)) instead. Leave it to its default value to avoid this warning.\n",
      "  warnings.warn(\n",
      "/Users/dmitriimartynov/Documents/Projects/nlp-itmo/.venv/lib/python3.13/site-packages/sklearn/linear_model/_logistic.py:1256: FutureWarning: 'multi_class' was deprecated in version 1.5 and will be removed in 1.7. Use OneVsRestClassifier(LogisticRegression(..)) instead. Leave it to its default value to avoid this warning.\n",
      "  warnings.warn(\n"
     ]
    },
    {
     "name": "stdout",
     "output_type": "stream",
     "text": [
      "[CV] END classifier__C=10.0, classifier__class_weight=balanced, vectorizer__max_features=10000, vectorizer__ngram_range=(1, 1); total time=   6.9s\n",
      "[CV] END classifier__C=10.0, classifier__class_weight=None, vectorizer__max_features=20000, vectorizer__ngram_range=(1, 2); total time=  18.6s\n",
      "[CV] END classifier__C=10.0, classifier__class_weight=balanced, vectorizer__max_features=10000, vectorizer__ngram_range=(1, 1); total time=   6.1s\n",
      "[CV] END classifier__C=10.0, classifier__class_weight=None, vectorizer__max_features=None, vectorizer__ngram_range=(1, 2); total time=  12.1s\n",
      "[CV] END classifier__C=10.0, classifier__class_weight=None, vectorizer__max_features=None, vectorizer__ngram_range=(1, 2); total time=  11.9s\n",
      "[CV] END classifier__C=10.0, classifier__class_weight=None, vectorizer__max_features=None, vectorizer__ngram_range=(1, 2); total time=  11.5s\n",
      "[CV] END classifier__C=10.0, classifier__class_weight=balanced, vectorizer__max_features=10000, vectorizer__ngram_range=(1, 1); total time=   6.5s\n"
     ]
    },
    {
     "name": "stderr",
     "output_type": "stream",
     "text": [
      "/Users/dmitriimartynov/Documents/Projects/nlp-itmo/.venv/lib/python3.13/site-packages/sklearn/linear_model/_logistic.py:1256: FutureWarning: 'multi_class' was deprecated in version 1.5 and will be removed in 1.7. Use OneVsRestClassifier(LogisticRegression(..)) instead. Leave it to its default value to avoid this warning.\n",
      "  warnings.warn(\n",
      "/Users/dmitriimartynov/Documents/Projects/nlp-itmo/.venv/lib/python3.13/site-packages/sklearn/linear_model/_logistic.py:1256: FutureWarning: 'multi_class' was deprecated in version 1.5 and will be removed in 1.7. Use OneVsRestClassifier(LogisticRegression(..)) instead. Leave it to its default value to avoid this warning.\n",
      "  warnings.warn(\n",
      "/Users/dmitriimartynov/Documents/Projects/nlp-itmo/.venv/lib/python3.13/site-packages/sklearn/linear_model/_logistic.py:1256: FutureWarning: 'multi_class' was deprecated in version 1.5 and will be removed in 1.7. Use OneVsRestClassifier(LogisticRegression(..)) instead. Leave it to its default value to avoid this warning.\n",
      "  warnings.warn(\n"
     ]
    },
    {
     "name": "stdout",
     "output_type": "stream",
     "text": [
      "[CV] END classifier__C=10.0, classifier__class_weight=balanced, vectorizer__max_features=20000, vectorizer__ngram_range=(1, 1); total time=   5.2s\n",
      "[CV] END classifier__C=10.0, classifier__class_weight=balanced, vectorizer__max_features=20000, vectorizer__ngram_range=(1, 1); total time=   5.4s\n"
     ]
    },
    {
     "name": "stderr",
     "output_type": "stream",
     "text": [
      "/Users/dmitriimartynov/Documents/Projects/nlp-itmo/.venv/lib/python3.13/site-packages/sklearn/linear_model/_logistic.py:1256: FutureWarning: 'multi_class' was deprecated in version 1.5 and will be removed in 1.7. Use OneVsRestClassifier(LogisticRegression(..)) instead. Leave it to its default value to avoid this warning.\n",
      "  warnings.warn(\n"
     ]
    },
    {
     "name": "stdout",
     "output_type": "stream",
     "text": [
      "[CV] END classifier__C=10.0, classifier__class_weight=balanced, vectorizer__max_features=20000, vectorizer__ngram_range=(1, 1); total time=   6.6s\n"
     ]
    },
    {
     "name": "stderr",
     "output_type": "stream",
     "text": [
      "/Users/dmitriimartynov/Documents/Projects/nlp-itmo/.venv/lib/python3.13/site-packages/sklearn/linear_model/_logistic.py:1256: FutureWarning: 'multi_class' was deprecated in version 1.5 and will be removed in 1.7. Use OneVsRestClassifier(LogisticRegression(..)) instead. Leave it to its default value to avoid this warning.\n",
      "  warnings.warn(\n",
      "/Users/dmitriimartynov/Documents/Projects/nlp-itmo/.venv/lib/python3.13/site-packages/sklearn/linear_model/_logistic.py:1256: FutureWarning: 'multi_class' was deprecated in version 1.5 and will be removed in 1.7. Use OneVsRestClassifier(LogisticRegression(..)) instead. Leave it to its default value to avoid this warning.\n",
      "  warnings.warn(\n"
     ]
    },
    {
     "name": "stdout",
     "output_type": "stream",
     "text": [
      "[CV] END classifier__C=10.0, classifier__class_weight=balanced, vectorizer__max_features=10000, vectorizer__ngram_range=(1, 2); total time=  15.6s\n",
      "[CV] END classifier__C=10.0, classifier__class_weight=balanced, vectorizer__max_features=None, vectorizer__ngram_range=(1, 1); total time=   6.1s\n"
     ]
    },
    {
     "name": "stderr",
     "output_type": "stream",
     "text": [
      "/Users/dmitriimartynov/Documents/Projects/nlp-itmo/.venv/lib/python3.13/site-packages/sklearn/linear_model/_logistic.py:1256: FutureWarning: 'multi_class' was deprecated in version 1.5 and will be removed in 1.7. Use OneVsRestClassifier(LogisticRegression(..)) instead. Leave it to its default value to avoid this warning.\n",
      "  warnings.warn(\n",
      "/Users/dmitriimartynov/Documents/Projects/nlp-itmo/.venv/lib/python3.13/site-packages/sklearn/linear_model/_logistic.py:1256: FutureWarning: 'multi_class' was deprecated in version 1.5 and will be removed in 1.7. Use OneVsRestClassifier(LogisticRegression(..)) instead. Leave it to its default value to avoid this warning.\n",
      "  warnings.warn(\n"
     ]
    },
    {
     "name": "stdout",
     "output_type": "stream",
     "text": [
      "[CV] END classifier__C=10.0, classifier__class_weight=balanced, vectorizer__max_features=None, vectorizer__ngram_range=(1, 1); total time=   6.2s\n"
     ]
    },
    {
     "name": "stderr",
     "output_type": "stream",
     "text": [
      "/Users/dmitriimartynov/Documents/Projects/nlp-itmo/.venv/lib/python3.13/site-packages/sklearn/linear_model/_logistic.py:1256: FutureWarning: 'multi_class' was deprecated in version 1.5 and will be removed in 1.7. Use OneVsRestClassifier(LogisticRegression(..)) instead. Leave it to its default value to avoid this warning.\n",
      "  warnings.warn(\n",
      "/Users/dmitriimartynov/Documents/Projects/nlp-itmo/.venv/lib/python3.13/site-packages/sklearn/linear_model/_logistic.py:1256: FutureWarning: 'multi_class' was deprecated in version 1.5 and will be removed in 1.7. Use OneVsRestClassifier(LogisticRegression(..)) instead. Leave it to its default value to avoid this warning.\n",
      "  warnings.warn(\n"
     ]
    },
    {
     "name": "stdout",
     "output_type": "stream",
     "text": [
      "[CV] END classifier__C=10.0, classifier__class_weight=balanced, vectorizer__max_features=10000, vectorizer__ngram_range=(1, 2); total time=  18.3s\n",
      "[CV] END classifier__C=10.0, classifier__class_weight=balanced, vectorizer__max_features=10000, vectorizer__ngram_range=(1, 2); total time=  18.4s\n",
      "[CV] END classifier__C=10.0, classifier__class_weight=balanced, vectorizer__max_features=None, vectorizer__ngram_range=(1, 1); total time=   5.8s\n",
      "[CV] END classifier__C=10.0, classifier__class_weight=balanced, vectorizer__max_features=20000, vectorizer__ngram_range=(1, 2); total time=  17.1s\n"
     ]
    },
    {
     "name": "stderr",
     "output_type": "stream",
     "text": [
      "/Users/dmitriimartynov/Documents/Projects/nlp-itmo/.venv/lib/python3.13/site-packages/sklearn/linear_model/_logistic.py:1256: FutureWarning: 'multi_class' was deprecated in version 1.5 and will be removed in 1.7. Use OneVsRestClassifier(LogisticRegression(..)) instead. Leave it to its default value to avoid this warning.\n",
      "  warnings.warn(\n",
      "/Users/dmitriimartynov/Documents/Projects/nlp-itmo/.venv/lib/python3.13/site-packages/sklearn/linear_model/_logistic.py:1256: FutureWarning: 'multi_class' was deprecated in version 1.5 and will be removed in 1.7. Use OneVsRestClassifier(LogisticRegression(..)) instead. Leave it to its default value to avoid this warning.\n",
      "  warnings.warn(\n",
      "/Users/dmitriimartynov/Documents/Projects/nlp-itmo/.venv/lib/python3.13/site-packages/sklearn/linear_model/_logistic.py:1256: FutureWarning: 'multi_class' was deprecated in version 1.5 and will be removed in 1.7. Use OneVsRestClassifier(LogisticRegression(..)) instead. Leave it to its default value to avoid this warning.\n",
      "  warnings.warn(\n",
      "/Users/dmitriimartynov/Documents/Projects/nlp-itmo/.venv/lib/python3.13/site-packages/sklearn/linear_model/_logistic.py:1256: FutureWarning: 'multi_class' was deprecated in version 1.5 and will be removed in 1.7. Use OneVsRestClassifier(LogisticRegression(..)) instead. Leave it to its default value to avoid this warning.\n",
      "  warnings.warn(\n"
     ]
    },
    {
     "name": "stdout",
     "output_type": "stream",
     "text": [
      "[CV] END classifier__C=10.0, classifier__class_weight=balanced, vectorizer__max_features=20000, vectorizer__ngram_range=(1, 2); total time=  19.8s\n",
      "[CV] END classifier__C=10.0, classifier__class_weight=balanced, vectorizer__max_features=20000, vectorizer__ngram_range=(1, 2); total time=  16.0s\n"
     ]
    },
    {
     "name": "stderr",
     "output_type": "stream",
     "text": [
      "/Users/dmitriimartynov/Documents/Projects/nlp-itmo/.venv/lib/python3.13/site-packages/sklearn/linear_model/_logistic.py:1256: FutureWarning: 'multi_class' was deprecated in version 1.5 and will be removed in 1.7. Use OneVsRestClassifier(LogisticRegression(..)) instead. Leave it to its default value to avoid this warning.\n",
      "  warnings.warn(\n"
     ]
    },
    {
     "name": "stdout",
     "output_type": "stream",
     "text": [
      "[CV] END classifier__C=10.0, classifier__class_weight=balanced, vectorizer__max_features=None, vectorizer__ngram_range=(1, 2); total time=   9.3s\n",
      "[CV] END classifier__C=10.0, classifier__class_weight=balanced, vectorizer__max_features=None, vectorizer__ngram_range=(1, 2); total time=   9.0s\n",
      "[CV] END classifier__C=10.0, classifier__class_weight=balanced, vectorizer__max_features=None, vectorizer__ngram_range=(1, 2); total time=   8.3s\n"
     ]
    },
    {
     "name": "stderr",
     "output_type": "stream",
     "text": [
      "/Users/dmitriimartynov/Documents/Projects/nlp-itmo/.venv/lib/python3.13/site-packages/sklearn/linear_model/_logistic.py:1256: FutureWarning: 'multi_class' was deprecated in version 1.5 and will be removed in 1.7. Use OneVsRestClassifier(LogisticRegression(..)) instead. Leave it to its default value to avoid this warning.\n",
      "  warnings.warn(\n"
     ]
    },
    {
     "name": "stdout",
     "output_type": "stream",
     "text": [
      "\n",
      "Лучшие параметры для TfidfVectorizer:\n",
      "{'classifier__C': 10.0, 'classifier__class_weight': 'balanced', 'vectorizer__max_features': 10000, 'vectorizer__ngram_range': (1, 1)}\n",
      "\n",
      "Лучший f1-macro на валидации: 0.8117\n",
      "\n",
      "Результаты TfidfVectorizer на тестовой выборке:\n",
      "Accuracy: 0.8250\n",
      "\n",
      "Classification Report:\n",
      "              precision    recall  f1-score   support\n",
      "\n",
      "           0       0.82      0.85      0.83       655\n",
      "           1       0.83      0.83      0.83       397\n",
      "           2       0.71      0.86      0.78       614\n",
      "           3       0.78      0.75      0.77       767\n",
      "           4       0.90      0.88      0.89       650\n",
      "           5       0.84      0.83      0.83      1380\n",
      "           6       0.90      0.89      0.89       738\n",
      "           7       0.70      0.75      0.73       243\n",
      "           8       0.82      0.68      0.74      1428\n",
      "           9       0.64      0.85      0.73       539\n",
      "          10       0.94      0.95      0.94      1029\n",
      "          11       0.90      0.83      0.87       406\n",
      "          12       0.84      0.85      0.84      1021\n",
      "\n",
      "    accuracy                           0.82      9867\n",
      "   macro avg       0.82      0.83      0.82      9867\n",
      "weighted avg       0.83      0.82      0.83      9867\n",
      "\n"
     ]
    }
   ],
   "source": [
    "from sklearn import multiclass\n",
    "from sklearn.metrics import make_scorer\n",
    "from sklearn.model_selection import GridSearchCV\n",
    "from sklearn.metrics import classification_report, accuracy_score, make_scorer, f1_score\n",
    "import numpy as np\n",
    "tfidf_pipeline = Pipeline([\n",
    "    ('vectorizer', TfidfVectorizer(max_df=0.9, min_df=0.001, norm='l1', )),\n",
    "    ('classifier', LogisticRegression(random_state=1, max_iter=2000, multi_class='ovr'))\n",
    "])\n",
    "\n",
    "f1_macro_scorer = make_scorer(f1_score, average='macro')\n",
    "\n",
    "\n",
    "tfidf_params = {\n",
    "    'vectorizer__ngram_range': [(1, 1), (1, 2)],\n",
    "    'vectorizer__max_features': [10000, 20000, None],\n",
    "}\n",
    "\n",
    "# Параметры для логистической регрессии (используем лучшие найденные)\n",
    "tfidf_logistic_params = {\n",
    "     'classifier__C': [0.1, 1.0, 10.0],\n",
    "     'classifier__class_weight': [None, 'balanced'],\n",
    "\n",
    "}\n",
    "\n",
    "# Объединяем параметры\n",
    "tfidf_param_grid = {}\n",
    "tfidf_param_grid.update(tfidf_params)\n",
    "tfidf_param_grid.update(tfidf_logistic_params)\n",
    "\n",
    "# Создаем GridSearchCV для TfidfVectorizer\n",
    "tfidf_grid_search = GridSearchCV(\n",
    "    tfidf_pipeline,\n",
    "    param_grid=tfidf_param_grid,\n",
    "    scoring=f1_macro_scorer,\n",
    "    n_jobs=-1,\n",
    "    verbose=2,\n",
    "    cv=3\n",
    ")\n",
    "\n",
    "# Запускаем поиск\n",
    "tfidf_grid_search.fit(X_train, y_train)\n",
    "\n",
    "# Выводим лучшие параметры\n",
    "print(\"\\nЛучшие параметры для TfidfVectorizer:\")\n",
    "print(tfidf_grid_search.best_params_)\n",
    "print(f\"\\nЛучший f1-macro на валидации: {tfidf_grid_search.best_score_:.4f}\")\n",
    "\n",
    "# Оцениваем на тестовой выборке\n",
    "best_tfidf_model = tfidf_grid_search.best_estimator_\n",
    "y_tfidf_pred = best_tfidf_model.predict(X_test)\n",
    "\n",
    "# Выводим метрики на тестовой выборке\n",
    "print(\"\\nРезультаты TfidfVectorizer на тестовой выборке:\")\n",
    "print(f\"Accuracy: {accuracy_score(y_test, y_tfidf_pred):.4f}\")\n",
    "print(\"\\nClassification Report:\")\n",
    "print(classification_report(y_test, y_tfidf_pred, zero_division=0))\n"
   ]
  },
  {
   "cell_type": "code",
   "execution_count": 53,
   "metadata": {},
   "outputs": [
    {
     "name": "stderr",
     "output_type": "stream",
     "text": [
      "/Users/dmitriimartynov/Documents/Projects/nlp-itmo/.venv/lib/python3.13/site-packages/sklearn/linear_model/_logistic.py:1256: FutureWarning: 'multi_class' was deprecated in version 1.5 and will be removed in 1.7. Use OneVsRestClassifier(LogisticRegression(..)) instead. Leave it to its default value to avoid this warning.\n",
      "  warnings.warn(\n"
     ]
    },
    {
     "name": "stdout",
     "output_type": "stream",
     "text": [
      "              precision    recall  f1-score   support\n",
      "\n",
      "           0       0.82      0.85      0.83       655\n",
      "           1       0.83      0.83      0.83       397\n",
      "           2       0.71      0.86      0.78       614\n",
      "           3       0.78      0.75      0.77       767\n",
      "           4       0.90      0.88      0.89       650\n",
      "           5       0.84      0.83      0.83      1380\n",
      "           6       0.90      0.89      0.89       738\n",
      "           7       0.70      0.75      0.73       243\n",
      "           8       0.82      0.68      0.74      1428\n",
      "           9       0.64      0.85      0.73       539\n",
      "          10       0.94      0.95      0.94      1029\n",
      "          11       0.90      0.83      0.87       406\n",
      "          12       0.84      0.85      0.84      1021\n",
      "\n",
      "    accuracy                           0.82      9867\n",
      "   macro avg       0.82      0.83      0.82      9867\n",
      "weighted avg       0.83      0.82      0.83      9867\n",
      "\n"
     ]
    }
   ],
   "source": [
    "tfidf_pipeline = Pipeline([\n",
    "    ('vectorizer', TfidfVectorizer(max_df=0.9, min_df=0.001, norm='l1', ngram_range=(1, 1), max_features=10000)),\n",
    "    ('classifier', LogisticRegression(random_state=1, max_iter=2000, multi_class='ovr', C=10.0, class_weight='balanced'))\n",
    "]).fit(X_train, y_train)\n",
    "\n",
    "\n",
    "preds = tfidf_pipeline.predict(X_test)\n",
    "print(classification_report(y_test, preds, zero_division=0))"
   ]
  },
  {
   "cell_type": "markdown",
   "metadata": {},
   "source": []
  }
 ],
 "metadata": {
  "kernelspec": {
   "display_name": ".venv",
   "language": "python",
   "name": "python3"
  },
  "language_info": {
   "codemirror_mode": {
    "name": "ipython",
    "version": 3
   },
   "file_extension": ".py",
   "mimetype": "text/x-python",
   "name": "python",
   "nbconvert_exporter": "python",
   "pygments_lexer": "ipython3",
   "version": "3.13.0"
  }
 },
 "nbformat": 4,
 "nbformat_minor": 2
}
